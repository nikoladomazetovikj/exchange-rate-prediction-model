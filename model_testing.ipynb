{
 "cells": [
  {
   "cell_type": "code",
   "execution_count": 2,
   "id": "initial_id",
   "metadata": {
    "collapsed": true,
    "ExecuteTime": {
     "end_time": "2024-04-28T23:55:07.814194900Z",
     "start_time": "2024-04-28T23:54:59.810999Z"
    }
   },
   "outputs": [
    {
     "name": "stdout",
     "output_type": "stream",
     "text": [
      "Collecting pymysql\n",
      "  Downloading PyMySQL-1.1.0-py3-none-any.whl.metadata (4.4 kB)\n",
      "Downloading PyMySQL-1.1.0-py3-none-any.whl (44 kB)\n",
      "   ---------------------------------------- 0.0/44.8 kB ? eta -:--:--\n",
      "   --------- ------------------------------ 10.2/44.8 kB ? eta -:--:--\n",
      "   ------------------ --------------------- 20.5/44.8 kB 320.0 kB/s eta 0:00:01\n",
      "   ---------------------------------------- 44.8/44.8 kB 367.3 kB/s eta 0:00:00\n",
      "Installing collected packages: pymysql\n",
      "Successfully installed pymysql-1.1.0\n",
      "Note: you may need to restart the kernel to use updated packages.\n"
     ]
    }
   ],
   "source": [
    "pip install pymysql"
   ]
  },
  {
   "cell_type": "code",
   "execution_count": 3,
   "outputs": [],
   "source": [
    "import pymysql"
   ],
   "metadata": {
    "collapsed": false,
    "ExecuteTime": {
     "end_time": "2024-04-28T23:55:18.389026100Z",
     "start_time": "2024-04-28T23:55:18.325401200Z"
    }
   },
   "id": "ff897bda21cd5ce0"
  },
  {
   "cell_type": "code",
   "execution_count": 4,
   "outputs": [],
   "source": [
    "host = ''\n",
    "user = ''\n",
    "password = ''\n",
    "database = ''\n",
    "\n",
    "# Connect to the MySQL database\n",
    "connection = pymysql.connect(host=host,\n",
    "                             user=user,\n",
    "                             password=password,\n",
    "                             database=database)"
   ],
   "metadata": {
    "collapsed": false,
    "ExecuteTime": {
     "end_time": "2024-04-28T23:56:59.499262100Z",
     "start_time": "2024-04-28T23:56:59.419570600Z"
    }
   },
   "id": "69b5c3247589fb23"
  },
  {
   "cell_type": "code",
   "execution_count": 5,
   "outputs": [],
   "source": [
    "from datetime import datetime, timedelta"
   ],
   "metadata": {
    "collapsed": false,
    "ExecuteTime": {
     "end_time": "2024-04-28T23:58:01.691457100Z",
     "start_time": "2024-04-28T23:58:01.680379300Z"
    }
   },
   "id": "228f16d1b21f107e"
  },
  {
   "cell_type": "code",
   "execution_count": 6,
   "outputs": [],
   "source": [
    "end_date = datetime.now()\n",
    "start_date = end_date - timedelta(days=7)\n",
    "\n",
    "start_date_str = start_date.strftime('%Y-%m-%d')\n",
    "end_date_str = end_date.strftime('%Y-%m-%d')"
   ],
   "metadata": {
    "collapsed": false,
    "ExecuteTime": {
     "end_time": "2024-04-28T23:58:16.742727300Z",
     "start_time": "2024-04-28T23:58:16.731668400Z"
    }
   },
   "id": "1a4d70a17a40290e"
  },
  {
   "cell_type": "code",
   "execution_count": 7,
   "outputs": [
    {
     "data": {
      "text/plain": "'2024-04-22'"
     },
     "execution_count": 7,
     "metadata": {},
     "output_type": "execute_result"
    }
   ],
   "source": [
    "start_date_str"
   ],
   "metadata": {
    "collapsed": false,
    "ExecuteTime": {
     "end_time": "2024-04-28T23:58:22.273906200Z",
     "start_time": "2024-04-28T23:58:22.244209500Z"
    }
   },
   "id": "750c012c08045ffe"
  },
  {
   "cell_type": "code",
   "execution_count": 8,
   "outputs": [
    {
     "data": {
      "text/plain": "'2024-04-29'"
     },
     "execution_count": 8,
     "metadata": {},
     "output_type": "execute_result"
    }
   ],
   "source": [
    "end_date_str"
   ],
   "metadata": {
    "collapsed": false,
    "ExecuteTime": {
     "end_time": "2024-04-28T23:58:28.287105200Z",
     "start_time": "2024-04-28T23:58:28.259840100Z"
    }
   },
   "id": "8652f882c5594053"
  },
  {
   "cell_type": "code",
   "execution_count": 12,
   "outputs": [],
   "source": [
    "query = f\"SELECT date, rate FROM rates WHERE date BETWEEN '{start_date_str}' AND '{end_date_str}'\""
   ],
   "metadata": {
    "collapsed": false,
    "ExecuteTime": {
     "end_time": "2024-04-29T00:00:27.768527700Z",
     "start_time": "2024-04-29T00:00:27.751354100Z"
    }
   },
   "id": "8af0a62607a59ec8"
  },
  {
   "cell_type": "code",
   "execution_count": 13,
   "outputs": [],
   "source": [
    "cursor = connection.cursor()\n",
    "cursor.execute(query)\n",
    "data = cursor.fetchall()"
   ],
   "metadata": {
    "collapsed": false,
    "ExecuteTime": {
     "end_time": "2024-04-29T00:00:28.549381800Z",
     "start_time": "2024-04-29T00:00:28.542674700Z"
    }
   },
   "id": "2eebe8c7cd12c07b"
  },
  {
   "cell_type": "code",
   "execution_count": 14,
   "outputs": [
    {
     "data": {
      "text/plain": "((datetime.date(2024, 4, 22), Decimal('57.73')),\n (datetime.date(2024, 4, 23), Decimal('57.84')),\n (datetime.date(2024, 4, 24), Decimal('57.61')),\n (datetime.date(2024, 4, 25), Decimal('57.61')),\n (datetime.date(2024, 4, 26), Decimal('57.36')),\n (datetime.date(2024, 4, 27), Decimal('57.40')),\n (datetime.date(2024, 4, 28), Decimal('57.40')))"
     },
     "execution_count": 14,
     "metadata": {},
     "output_type": "execute_result"
    }
   ],
   "source": [
    "data"
   ],
   "metadata": {
    "collapsed": false,
    "ExecuteTime": {
     "end_time": "2024-04-29T00:00:29.566685400Z",
     "start_time": "2024-04-29T00:00:29.557016Z"
    }
   },
   "id": "642973f4be697e8a"
  },
  {
   "cell_type": "code",
   "execution_count": 15,
   "outputs": [],
   "source": [
    "cursor.close()\n",
    "connection.close()"
   ],
   "metadata": {
    "collapsed": false,
    "ExecuteTime": {
     "end_time": "2024-04-29T00:00:47.940141200Z",
     "start_time": "2024-04-29T00:00:47.927587600Z"
    }
   },
   "id": "9a84191dd91ed101"
  },
  {
   "cell_type": "code",
   "execution_count": 16,
   "outputs": [
    {
     "data": {
      "text/plain": "((datetime.date(2024, 4, 22), Decimal('57.73')),\n (datetime.date(2024, 4, 23), Decimal('57.84')),\n (datetime.date(2024, 4, 24), Decimal('57.61')),\n (datetime.date(2024, 4, 25), Decimal('57.61')),\n (datetime.date(2024, 4, 26), Decimal('57.36')),\n (datetime.date(2024, 4, 27), Decimal('57.40')),\n (datetime.date(2024, 4, 28), Decimal('57.40')))"
     },
     "execution_count": 16,
     "metadata": {},
     "output_type": "execute_result"
    }
   ],
   "source": [
    "data"
   ],
   "metadata": {
    "collapsed": false,
    "ExecuteTime": {
     "end_time": "2024-04-29T00:00:51.974191400Z",
     "start_time": "2024-04-29T00:00:51.958944800Z"
    }
   },
   "id": "6234c603bea3ddbd"
  },
  {
   "cell_type": "code",
   "execution_count": null,
   "outputs": [],
   "source": [],
   "metadata": {
    "collapsed": false
   },
   "id": "d8882eccabfbdaaf"
  }
 ],
 "metadata": {
  "kernelspec": {
   "display_name": "Python 3",
   "language": "python",
   "name": "python3"
  },
  "language_info": {
   "codemirror_mode": {
    "name": "ipython",
    "version": 2
   },
   "file_extension": ".py",
   "mimetype": "text/x-python",
   "name": "python",
   "nbconvert_exporter": "python",
   "pygments_lexer": "ipython2",
   "version": "2.7.6"
  }
 },
 "nbformat": 4,
 "nbformat_minor": 5
}
