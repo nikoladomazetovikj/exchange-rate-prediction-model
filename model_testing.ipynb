{
 "cells": [
  {
   "cell_type": "code",
   "execution_count": 2,
   "id": "initial_id",
   "metadata": {
    "collapsed": true,
    "ExecuteTime": {
     "end_time": "2024-04-28T23:55:07.814194900Z",
     "start_time": "2024-04-28T23:54:59.810999Z"
    }
   },
   "outputs": [
    {
     "name": "stdout",
     "output_type": "stream",
     "text": [
      "Collecting pymysql\n",
      "  Downloading PyMySQL-1.1.0-py3-none-any.whl.metadata (4.4 kB)\n",
      "Downloading PyMySQL-1.1.0-py3-none-any.whl (44 kB)\n",
      "   ---------------------------------------- 0.0/44.8 kB ? eta -:--:--\n",
      "   --------- ------------------------------ 10.2/44.8 kB ? eta -:--:--\n",
      "   ------------------ --------------------- 20.5/44.8 kB 320.0 kB/s eta 0:00:01\n",
      "   ---------------------------------------- 44.8/44.8 kB 367.3 kB/s eta 0:00:00\n",
      "Installing collected packages: pymysql\n",
      "Successfully installed pymysql-1.1.0\n",
      "Note: you may need to restart the kernel to use updated packages.\n"
     ]
    }
   ],
   "source": [
    "pip install pymysql"
   ]
  },
  {
   "cell_type": "code",
   "execution_count": 3,
   "outputs": [],
   "source": [
    "import pymysql"
   ],
   "metadata": {
    "collapsed": false,
    "ExecuteTime": {
     "end_time": "2024-04-28T23:55:18.389026100Z",
     "start_time": "2024-04-28T23:55:18.325401200Z"
    }
   },
   "id": "ff897bda21cd5ce0"
  },
  {
   "cell_type": "code",
   "execution_count": 17,
   "outputs": [],
   "source": [
    "host = ''\n",
    "user = ''\n",
    "password = ''\n",
    "database = ''\n",
    "\n",
    "# Connect to the MySQL database\n",
    "connection = pymysql.connect(host=host,\n",
    "                             user=user,\n",
    "                             password=password,\n",
    "                             database=database)"
   ],
   "metadata": {
    "collapsed": false,
    "ExecuteTime": {
     "end_time": "2024-04-29T00:02:35.116776800Z",
     "start_time": "2024-04-29T00:02:35.097670Z"
    }
   },
   "id": "69b5c3247589fb23"
  },
  {
   "cell_type": "code",
   "execution_count": 18,
   "outputs": [],
   "source": [
    "from datetime import datetime, timedelta"
   ],
   "metadata": {
    "collapsed": false,
    "ExecuteTime": {
     "end_time": "2024-04-29T00:02:35.807372700Z",
     "start_time": "2024-04-29T00:02:35.802330400Z"
    }
   },
   "id": "228f16d1b21f107e"
  },
  {
   "cell_type": "code",
   "execution_count": 19,
   "outputs": [],
   "source": [
    "end_date = datetime.now()\n",
    "start_date = end_date - timedelta(days=7)\n",
    "\n",
    "start_date_str = start_date.strftime('%Y-%m-%d')\n",
    "end_date_str = end_date.strftime('%Y-%m-%d')"
   ],
   "metadata": {
    "collapsed": false,
    "ExecuteTime": {
     "end_time": "2024-04-29T00:02:36.342513700Z",
     "start_time": "2024-04-29T00:02:36.338673600Z"
    }
   },
   "id": "1a4d70a17a40290e"
  },
  {
   "cell_type": "code",
   "execution_count": 20,
   "outputs": [
    {
     "data": {
      "text/plain": "'2024-04-22'"
     },
     "execution_count": 20,
     "metadata": {},
     "output_type": "execute_result"
    }
   ],
   "source": [
    "start_date_str"
   ],
   "metadata": {
    "collapsed": false,
    "ExecuteTime": {
     "end_time": "2024-04-29T00:02:37.002725400Z",
     "start_time": "2024-04-29T00:02:36.992856200Z"
    }
   },
   "id": "750c012c08045ffe"
  },
  {
   "cell_type": "code",
   "execution_count": 21,
   "outputs": [
    {
     "data": {
      "text/plain": "'2024-04-29'"
     },
     "execution_count": 21,
     "metadata": {},
     "output_type": "execute_result"
    }
   ],
   "source": [
    "end_date_str"
   ],
   "metadata": {
    "collapsed": false,
    "ExecuteTime": {
     "end_time": "2024-04-29T00:02:37.810466500Z",
     "start_time": "2024-04-29T00:02:37.804858700Z"
    }
   },
   "id": "8652f882c5594053"
  },
  {
   "cell_type": "code",
   "execution_count": 22,
   "outputs": [],
   "source": [
    "query = f\"SELECT date, rate FROM rates WHERE date BETWEEN '{start_date_str}' AND '{end_date_str}'\""
   ],
   "metadata": {
    "collapsed": false,
    "ExecuteTime": {
     "end_time": "2024-04-29T00:02:38.309937200Z",
     "start_time": "2024-04-29T00:02:38.303857500Z"
    }
   },
   "id": "8af0a62607a59ec8"
  },
  {
   "cell_type": "code",
   "execution_count": 23,
   "outputs": [],
   "source": [
    "cursor = connection.cursor()\n",
    "cursor.execute(query)\n",
    "data = cursor.fetchall()"
   ],
   "metadata": {
    "collapsed": false,
    "ExecuteTime": {
     "end_time": "2024-04-29T00:02:38.864758800Z",
     "start_time": "2024-04-29T00:02:38.849630300Z"
    }
   },
   "id": "2eebe8c7cd12c07b"
  },
  {
   "cell_type": "code",
   "execution_count": 24,
   "outputs": [
    {
     "data": {
      "text/plain": "((datetime.date(2024, 4, 22), Decimal('57.73')),\n (datetime.date(2024, 4, 23), Decimal('57.84')),\n (datetime.date(2024, 4, 24), Decimal('57.61')),\n (datetime.date(2024, 4, 25), Decimal('57.61')),\n (datetime.date(2024, 4, 26), Decimal('57.36')),\n (datetime.date(2024, 4, 27), Decimal('57.40')),\n (datetime.date(2024, 4, 28), Decimal('57.40')))"
     },
     "execution_count": 24,
     "metadata": {},
     "output_type": "execute_result"
    }
   ],
   "source": [
    "data"
   ],
   "metadata": {
    "collapsed": false,
    "ExecuteTime": {
     "end_time": "2024-04-29T00:02:39.672409700Z",
     "start_time": "2024-04-29T00:02:39.665421800Z"
    }
   },
   "id": "642973f4be697e8a"
  },
  {
   "cell_type": "code",
   "execution_count": 25,
   "outputs": [],
   "source": [
    "cursor.close()\n",
    "connection.close()"
   ],
   "metadata": {
    "collapsed": false,
    "ExecuteTime": {
     "end_time": "2024-04-29T00:02:40.418776400Z",
     "start_time": "2024-04-29T00:02:40.413319800Z"
    }
   },
   "id": "9a84191dd91ed101"
  },
  {
   "cell_type": "code",
   "execution_count": 26,
   "outputs": [
    {
     "data": {
      "text/plain": "((datetime.date(2024, 4, 22), Decimal('57.73')),\n (datetime.date(2024, 4, 23), Decimal('57.84')),\n (datetime.date(2024, 4, 24), Decimal('57.61')),\n (datetime.date(2024, 4, 25), Decimal('57.61')),\n (datetime.date(2024, 4, 26), Decimal('57.36')),\n (datetime.date(2024, 4, 27), Decimal('57.40')),\n (datetime.date(2024, 4, 28), Decimal('57.40')))"
     },
     "execution_count": 26,
     "metadata": {},
     "output_type": "execute_result"
    }
   ],
   "source": [
    "data"
   ],
   "metadata": {
    "collapsed": false,
    "ExecuteTime": {
     "end_time": "2024-04-29T00:02:41.080313200Z",
     "start_time": "2024-04-29T00:02:41.075654900Z"
    }
   },
   "id": "6234c603bea3ddbd"
  },
  {
   "cell_type": "code",
   "execution_count": 32,
   "outputs": [],
   "source": [
    "import numpy as np\n",
    "\n",
    "rates = [float(row[1]) for row in data]\n",
    "\n",
    "rates_array = np.array(rates)\n",
    "\n",
    "past_columns = []\n",
    "for i in range(7):\n",
    "    past_columns.append(f\"past_{i}\")\n",
    "\n",
    "preprocessed_data = np.zeros((len(rates) - 6, 7))\n",
    "for i in range(6, len(rates)):\n",
    "    preprocessed_data[i - 6] = rates[i-6:i+1][::-1]"
   ],
   "metadata": {
    "collapsed": false,
    "ExecuteTime": {
     "end_time": "2024-04-29T00:09:47.135385200Z",
     "start_time": "2024-04-29T00:09:47.113608300Z"
    }
   },
   "id": "d8882eccabfbdaaf"
  },
  {
   "cell_type": "code",
   "execution_count": 33,
   "outputs": [
    {
     "data": {
      "text/plain": "array([[57.4 , 57.4 , 57.36, 57.61, 57.61, 57.84, 57.73]])"
     },
     "execution_count": 33,
     "metadata": {},
     "output_type": "execute_result"
    }
   ],
   "source": [
    "preprocessed_data"
   ],
   "metadata": {
    "collapsed": false,
    "ExecuteTime": {
     "end_time": "2024-04-29T00:09:49.912433400Z",
     "start_time": "2024-04-29T00:09:49.892507700Z"
    }
   },
   "id": "97a716b230b24884"
  },
  {
   "cell_type": "code",
   "execution_count": 3,
   "outputs": [],
   "source": [
    "import joblib\n",
    "\n",
    "model = joblib.load('model.pkl')"
   ],
   "metadata": {
    "collapsed": false,
    "ExecuteTime": {
     "end_time": "2024-04-29T08:14:57.616148700Z",
     "start_time": "2024-04-29T08:14:56.089269200Z"
    }
   },
   "id": "3ff783abc6f9d8f6"
  },
  {
   "cell_type": "code",
   "execution_count": 35,
   "outputs": [
    {
     "name": "stderr",
     "output_type": "stream",
     "text": [
      "C:\\Users\\Nikola\\anaconda3\\Lib\\site-packages\\sklearn\\base.py:439: UserWarning: X does not have valid feature names, but MLPRegressor was fitted with feature names\n",
      "  warnings.warn(\n"
     ]
    }
   ],
   "source": [
    "predictions = model.predict(preprocessed_data)"
   ],
   "metadata": {
    "collapsed": false,
    "ExecuteTime": {
     "end_time": "2024-04-29T00:11:43.386135900Z",
     "start_time": "2024-04-29T00:11:43.369395800Z"
    }
   },
   "id": "24f6328becd4a223"
  },
  {
   "cell_type": "code",
   "execution_count": 36,
   "outputs": [
    {
     "data": {
      "text/plain": "array([[56.74224514, 56.75664544, 56.76898127, 56.76901942, 56.79742601,\n        56.79959797, 56.7943261 ]])"
     },
     "execution_count": 36,
     "metadata": {},
     "output_type": "execute_result"
    }
   ],
   "source": [
    "predictions"
   ],
   "metadata": {
    "collapsed": false,
    "ExecuteTime": {
     "end_time": "2024-04-29T00:11:56.791948100Z",
     "start_time": "2024-04-29T00:11:56.778866900Z"
    }
   },
   "id": "9eae7ea11b526aed"
  },
  {
   "cell_type": "code",
   "execution_count": 6,
   "outputs": [],
   "source": [
    "dummy_data = [[59.56, 58.21, 56.12, 57.12, 51.21, 56.89, 55.30]]"
   ],
   "metadata": {
    "collapsed": false,
    "ExecuteTime": {
     "end_time": "2024-04-29T08:15:13.526833600Z",
     "start_time": "2024-04-29T08:15:13.504538500Z"
    }
   },
   "id": "1b13ad57b0daf418"
  },
  {
   "cell_type": "code",
   "execution_count": 7,
   "outputs": [
    {
     "name": "stderr",
     "output_type": "stream",
     "text": [
      "C:\\Users\\Nikola\\anaconda3\\Lib\\site-packages\\sklearn\\base.py:439: UserWarning: X does not have valid feature names, but MLPRegressor was fitted with feature names\n",
      "  warnings.warn(\n"
     ]
    }
   ],
   "source": [
    "predictions_dummy = model.predict(dummy_data)"
   ],
   "metadata": {
    "collapsed": false,
    "ExecuteTime": {
     "end_time": "2024-04-29T08:15:14.064210500Z",
     "start_time": "2024-04-29T08:15:14.057647700Z"
    }
   },
   "id": "fe8a977390bb6261"
  },
  {
   "cell_type": "code",
   "execution_count": 8,
   "outputs": [
    {
     "data": {
      "text/plain": "array([[56.7422262 , 56.75663342, 56.76899566, 56.76901348, 56.79744782,\n        56.79960948, 56.79431812]])"
     },
     "execution_count": 8,
     "metadata": {},
     "output_type": "execute_result"
    }
   ],
   "source": [
    "predictions_dummy"
   ],
   "metadata": {
    "collapsed": false,
    "ExecuteTime": {
     "end_time": "2024-04-29T08:15:19.672609300Z",
     "start_time": "2024-04-29T08:15:19.649929300Z"
    }
   },
   "id": "d9a267999e63603b"
  },
  {
   "cell_type": "code",
   "execution_count": null,
   "outputs": [],
   "source": [],
   "metadata": {
    "collapsed": false
   },
   "id": "3501abc21d532319"
  }
 ],
 "metadata": {
  "kernelspec": {
   "display_name": "Python 3",
   "language": "python",
   "name": "python3"
  },
  "language_info": {
   "codemirror_mode": {
    "name": "ipython",
    "version": 2
   },
   "file_extension": ".py",
   "mimetype": "text/x-python",
   "name": "python",
   "nbconvert_exporter": "python",
   "pygments_lexer": "ipython2",
   "version": "2.7.6"
  }
 },
 "nbformat": 4,
 "nbformat_minor": 5
}
