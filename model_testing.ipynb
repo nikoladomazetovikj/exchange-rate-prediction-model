{
 "cells": [
  {
   "cell_type": "code",
   "execution_count": 2,
   "id": "initial_id",
   "metadata": {
    "collapsed": true,
    "ExecuteTime": {
     "end_time": "2024-04-28T23:55:07.814194900Z",
     "start_time": "2024-04-28T23:54:59.810999Z"
    }
   },
   "outputs": [
    {
     "name": "stdout",
     "output_type": "stream",
     "text": [
      "Collecting pymysql\n",
      "  Downloading PyMySQL-1.1.0-py3-none-any.whl.metadata (4.4 kB)\n",
      "Downloading PyMySQL-1.1.0-py3-none-any.whl (44 kB)\n",
      "   ---------------------------------------- 0.0/44.8 kB ? eta -:--:--\n",
      "   --------- ------------------------------ 10.2/44.8 kB ? eta -:--:--\n",
      "   ------------------ --------------------- 20.5/44.8 kB 320.0 kB/s eta 0:00:01\n",
      "   ---------------------------------------- 44.8/44.8 kB 367.3 kB/s eta 0:00:00\n",
      "Installing collected packages: pymysql\n",
      "Successfully installed pymysql-1.1.0\n",
      "Note: you may need to restart the kernel to use updated packages.\n"
     ]
    }
   ],
   "source": [
    "pip install pymysql"
   ]
  },
  {
   "cell_type": "code",
   "execution_count": 3,
   "outputs": [],
   "source": [
    "import pymysql"
   ],
   "metadata": {
    "collapsed": false,
    "ExecuteTime": {
     "end_time": "2024-04-28T23:55:18.389026100Z",
     "start_time": "2024-04-28T23:55:18.325401200Z"
    }
   },
   "id": "ff897bda21cd5ce0"
  },
  {
   "cell_type": "code",
   "execution_count": 17,
   "outputs": [],
   "source": [
    "host = ''\n",
    "user = ''\n",
    "password = ''\n",
    "database = ''\n",
    "\n",
    "# Connect to the MySQL database\n",
    "connection = pymysql.connect(host=host,\n",
    "                             user=user,\n",
    "                             password=password,\n",
    "                             database=database)"
   ],
   "metadata": {
    "collapsed": false,
    "ExecuteTime": {
     "end_time": "2024-04-29T00:02:35.116776800Z",
     "start_time": "2024-04-29T00:02:35.097670Z"
    }
   },
   "id": "69b5c3247589fb23"
  },
  {
   "cell_type": "code",
   "execution_count": 18,
   "outputs": [],
   "source": [
    "from datetime import datetime, timedelta"
   ],
   "metadata": {
    "collapsed": false,
    "ExecuteTime": {
     "end_time": "2024-04-29T00:02:35.807372700Z",
     "start_time": "2024-04-29T00:02:35.802330400Z"
    }
   },
   "id": "228f16d1b21f107e"
  },
  {
   "cell_type": "code",
   "execution_count": 19,
   "outputs": [],
   "source": [
    "end_date = datetime.now()\n",
    "start_date = end_date - timedelta(days=7)\n",
    "\n",
    "start_date_str = start_date.strftime('%Y-%m-%d')\n",
    "end_date_str = end_date.strftime('%Y-%m-%d')"
   ],
   "metadata": {
    "collapsed": false,
    "ExecuteTime": {
     "end_time": "2024-04-29T00:02:36.342513700Z",
     "start_time": "2024-04-29T00:02:36.338673600Z"
    }
   },
   "id": "1a4d70a17a40290e"
  },
  {
   "cell_type": "code",
   "execution_count": 20,
   "outputs": [
    {
     "data": {
      "text/plain": "'2024-04-22'"
     },
     "execution_count": 20,
     "metadata": {},
     "output_type": "execute_result"
    }
   ],
   "source": [
    "start_date_str"
   ],
   "metadata": {
    "collapsed": false,
    "ExecuteTime": {
     "end_time": "2024-04-29T00:02:37.002725400Z",
     "start_time": "2024-04-29T00:02:36.992856200Z"
    }
   },
   "id": "750c012c08045ffe"
  },
  {
   "cell_type": "code",
   "execution_count": 21,
   "outputs": [
    {
     "data": {
      "text/plain": "'2024-04-29'"
     },
     "execution_count": 21,
     "metadata": {},
     "output_type": "execute_result"
    }
   ],
   "source": [
    "end_date_str"
   ],
   "metadata": {
    "collapsed": false,
    "ExecuteTime": {
     "end_time": "2024-04-29T00:02:37.810466500Z",
     "start_time": "2024-04-29T00:02:37.804858700Z"
    }
   },
   "id": "8652f882c5594053"
  },
  {
   "cell_type": "code",
   "execution_count": 22,
   "outputs": [],
   "source": [
    "query = f\"SELECT date, rate FROM rates WHERE date BETWEEN '{start_date_str}' AND '{end_date_str}'\""
   ],
   "metadata": {
    "collapsed": false,
    "ExecuteTime": {
     "end_time": "2024-04-29T00:02:38.309937200Z",
     "start_time": "2024-04-29T00:02:38.303857500Z"
    }
   },
   "id": "8af0a62607a59ec8"
  },
  {
   "cell_type": "code",
   "execution_count": 23,
   "outputs": [],
   "source": [
    "cursor = connection.cursor()\n",
    "cursor.execute(query)\n",
    "data = cursor.fetchall()"
   ],
   "metadata": {
    "collapsed": false,
    "ExecuteTime": {
     "end_time": "2024-04-29T00:02:38.864758800Z",
     "start_time": "2024-04-29T00:02:38.849630300Z"
    }
   },
   "id": "2eebe8c7cd12c07b"
  },
  {
   "cell_type": "code",
   "execution_count": 24,
   "outputs": [
    {
     "data": {
      "text/plain": "((datetime.date(2024, 4, 22), Decimal('57.73')),\n (datetime.date(2024, 4, 23), Decimal('57.84')),\n (datetime.date(2024, 4, 24), Decimal('57.61')),\n (datetime.date(2024, 4, 25), Decimal('57.61')),\n (datetime.date(2024, 4, 26), Decimal('57.36')),\n (datetime.date(2024, 4, 27), Decimal('57.40')),\n (datetime.date(2024, 4, 28), Decimal('57.40')))"
     },
     "execution_count": 24,
     "metadata": {},
     "output_type": "execute_result"
    }
   ],
   "source": [
    "data"
   ],
   "metadata": {
    "collapsed": false,
    "ExecuteTime": {
     "end_time": "2024-04-29T00:02:39.672409700Z",
     "start_time": "2024-04-29T00:02:39.665421800Z"
    }
   },
   "id": "642973f4be697e8a"
  },
  {
   "cell_type": "code",
   "execution_count": 25,
   "outputs": [],
   "source": [
    "cursor.close()\n",
    "connection.close()"
   ],
   "metadata": {
    "collapsed": false,
    "ExecuteTime": {
     "end_time": "2024-04-29T00:02:40.418776400Z",
     "start_time": "2024-04-29T00:02:40.413319800Z"
    }
   },
   "id": "9a84191dd91ed101"
  },
  {
   "cell_type": "code",
   "execution_count": 26,
   "outputs": [
    {
     "data": {
      "text/plain": "((datetime.date(2024, 4, 22), Decimal('57.73')),\n (datetime.date(2024, 4, 23), Decimal('57.84')),\n (datetime.date(2024, 4, 24), Decimal('57.61')),\n (datetime.date(2024, 4, 25), Decimal('57.61')),\n (datetime.date(2024, 4, 26), Decimal('57.36')),\n (datetime.date(2024, 4, 27), Decimal('57.40')),\n (datetime.date(2024, 4, 28), Decimal('57.40')))"
     },
     "execution_count": 26,
     "metadata": {},
     "output_type": "execute_result"
    }
   ],
   "source": [
    "data"
   ],
   "metadata": {
    "collapsed": false,
    "ExecuteTime": {
     "end_time": "2024-04-29T00:02:41.080313200Z",
     "start_time": "2024-04-29T00:02:41.075654900Z"
    }
   },
   "id": "6234c603bea3ddbd"
  },
  {
   "cell_type": "code",
   "execution_count": 32,
   "outputs": [],
   "source": [
    "import numpy as np\n",
    "\n",
    "rates = [float(row[1]) for row in data]\n",
    "\n",
    "rates_array = np.array(rates)\n",
    "\n",
    "past_columns = []\n",
    "for i in range(7):\n",
    "    past_columns.append(f\"past_{i}\")\n",
    "\n",
    "preprocessed_data = np.zeros((len(rates) - 6, 7))\n",
    "for i in range(6, len(rates)):\n",
    "    preprocessed_data[i - 6] = rates[i-6:i+1][::-1]"
   ],
   "metadata": {
    "collapsed": false,
    "ExecuteTime": {
     "end_time": "2024-04-29T00:09:47.135385200Z",
     "start_time": "2024-04-29T00:09:47.113608300Z"
    }
   },
   "id": "d8882eccabfbdaaf"
  },
  {
   "cell_type": "code",
   "execution_count": 33,
   "outputs": [
    {
     "data": {
      "text/plain": "array([[57.4 , 57.4 , 57.36, 57.61, 57.61, 57.84, 57.73]])"
     },
     "execution_count": 33,
     "metadata": {},
     "output_type": "execute_result"
    }
   ],
   "source": [
    "preprocessed_data"
   ],
   "metadata": {
    "collapsed": false,
    "ExecuteTime": {
     "end_time": "2024-04-29T00:09:49.912433400Z",
     "start_time": "2024-04-29T00:09:49.892507700Z"
    }
   },
   "id": "97a716b230b24884"
  },
  {
   "cell_type": "code",
   "execution_count": 10,
   "outputs": [],
   "source": [
    "import joblib\n",
    "\n",
    "model = joblib.load('model.pkl')"
   ],
   "metadata": {
    "collapsed": false,
    "ExecuteTime": {
     "end_time": "2024-04-29T09:06:34.257400200Z",
     "start_time": "2024-04-29T09:06:34.245780400Z"
    }
   },
   "id": "3ff783abc6f9d8f6"
  },
  {
   "cell_type": "code",
   "execution_count": 9,
   "outputs": [
    {
     "ename": "NameError",
     "evalue": "name 'preprocessed_data' is not defined",
     "output_type": "error",
     "traceback": [
      "\u001B[1;31m---------------------------------------------------------------------------\u001B[0m",
      "\u001B[1;31mNameError\u001B[0m                                 Traceback (most recent call last)",
      "Cell \u001B[1;32mIn[9], line 1\u001B[0m\n\u001B[1;32m----> 1\u001B[0m predictions \u001B[38;5;241m=\u001B[39m model\u001B[38;5;241m.\u001B[39mpredict(preprocessed_data)\n",
      "\u001B[1;31mNameError\u001B[0m: name 'preprocessed_data' is not defined"
     ]
    }
   ],
   "source": [
    "predictions = model.predict(preprocessed_data)"
   ],
   "metadata": {
    "collapsed": false,
    "ExecuteTime": {
     "end_time": "2024-04-29T09:06:25.140056800Z",
     "start_time": "2024-04-29T09:06:24.128524Z"
    }
   },
   "id": "24f6328becd4a223"
  },
  {
   "cell_type": "code",
   "execution_count": 36,
   "outputs": [
    {
     "data": {
      "text/plain": "array([[56.74224514, 56.75664544, 56.76898127, 56.76901942, 56.79742601,\n        56.79959797, 56.7943261 ]])"
     },
     "execution_count": 36,
     "metadata": {},
     "output_type": "execute_result"
    }
   ],
   "source": [
    "predictions"
   ],
   "metadata": {
    "collapsed": false,
    "ExecuteTime": {
     "end_time": "2024-04-29T00:11:56.791948100Z",
     "start_time": "2024-04-29T00:11:56.778866900Z"
    }
   },
   "id": "9eae7ea11b526aed"
  },
  {
   "cell_type": "code",
   "execution_count": 22,
   "outputs": [],
   "source": [
    "dummy_data = [[59.56, 58.21, 56.12, 57.12, 51.21, 56.89, 55.30]]"
   ],
   "metadata": {
    "collapsed": false,
    "ExecuteTime": {
     "end_time": "2024-04-29T09:14:28.023534400Z",
     "start_time": "2024-04-29T09:14:28.008376Z"
    }
   },
   "id": "1b13ad57b0daf418"
  },
  {
   "cell_type": "code",
   "execution_count": 23,
   "outputs": [
    {
     "name": "stderr",
     "output_type": "stream",
     "text": [
      "C:\\Users\\Nikola\\anaconda3\\Lib\\site-packages\\sklearn\\base.py:439: UserWarning: X does not have valid feature names, but MLPRegressor was fitted with feature names\n",
      "  warnings.warn(\n"
     ]
    }
   ],
   "source": [
    "predictions_dummy = model.predict(dummy_data)"
   ],
   "metadata": {
    "collapsed": false,
    "ExecuteTime": {
     "end_time": "2024-04-29T09:14:30.027444600Z",
     "start_time": "2024-04-29T09:14:30.006686600Z"
    }
   },
   "id": "fe8a977390bb6261"
  },
  {
   "cell_type": "code",
   "execution_count": 24,
   "outputs": [
    {
     "data": {
      "text/plain": "array([[57.66937545, 57.50033519, 57.13680116, 57.36805551, 57.33046104,\n        56.24695397, 56.20270695]])"
     },
     "execution_count": 24,
     "metadata": {},
     "output_type": "execute_result"
    }
   ],
   "source": [
    "predictions_dummy"
   ],
   "metadata": {
    "collapsed": false,
    "ExecuteTime": {
     "end_time": "2024-04-29T09:14:31.223623200Z",
     "start_time": "2024-04-29T09:14:31.199541900Z"
    }
   },
   "id": "d9a267999e63603b"
  },
  {
   "cell_type": "code",
   "execution_count": 21,
   "outputs": [
    {
     "name": "stdout",
     "output_type": "stream",
     "text": [
      "Prediction 1: [[57.66937545 57.50033519 57.13680116 57.36805551 57.33046104 56.24695397\n",
      "  56.20270695]]\n",
      "Prediction 2: [[59.08654966 58.72299314 58.19230242 58.78685013 58.94083547 58.38436632\n",
      "  57.75918293]]\n",
      "Prediction 3: [[57.02066363 56.97313915 56.62495416 56.85754333 56.84251671 56.01689895\n",
      "  55.78627563]]\n",
      "Prediction 4: [[59.51884969 59.26423013 58.90147166 59.20554707 59.39136661 58.61224175\n",
      "  58.24153828]]\n",
      "Prediction 5: [[56.12321938 55.88488416 55.53589853 55.86624309 55.91205326 55.01729977\n",
      "  54.55769624]]\n",
      "Prediction 6: [[60.76109537 60.54254493 60.29151067 60.63058096 60.69686033 60.01283747\n",
      "  59.47370014]]\n",
      "Prediction 7: [[56.65807447 56.33895242 55.92946984 56.31923535 56.45360754 55.65097882\n",
      "  55.1583775 ]]\n",
      "Prediction 8: [[61.61563513 61.27852351 60.8865435  61.28938195 61.52953277 60.69114992\n",
      "  60.29784   ]]\n",
      "Prediction 9: [[57.97816285 57.75540283 57.44296541 57.80053568 57.81680793 57.08543866\n",
      "  56.55178899]]\n",
      "Prediction 10: [[60.02958131 59.6080847  59.21223668 59.45781688 59.74133673 58.888554\n",
      "  58.76305415]]\n"
     ]
    },
    {
     "name": "stderr",
     "output_type": "stream",
     "text": [
      "C:\\Users\\Nikola\\anaconda3\\Lib\\site-packages\\sklearn\\base.py:439: UserWarning: X does not have valid feature names, but MLPRegressor was fitted with feature names\n",
      "  warnings.warn(\n",
      "C:\\Users\\Nikola\\anaconda3\\Lib\\site-packages\\sklearn\\base.py:439: UserWarning: X does not have valid feature names, but MLPRegressor was fitted with feature names\n",
      "  warnings.warn(\n",
      "C:\\Users\\Nikola\\anaconda3\\Lib\\site-packages\\sklearn\\base.py:439: UserWarning: X does not have valid feature names, but MLPRegressor was fitted with feature names\n",
      "  warnings.warn(\n",
      "C:\\Users\\Nikola\\anaconda3\\Lib\\site-packages\\sklearn\\base.py:439: UserWarning: X does not have valid feature names, but MLPRegressor was fitted with feature names\n",
      "  warnings.warn(\n",
      "C:\\Users\\Nikola\\anaconda3\\Lib\\site-packages\\sklearn\\base.py:439: UserWarning: X does not have valid feature names, but MLPRegressor was fitted with feature names\n",
      "  warnings.warn(\n",
      "C:\\Users\\Nikola\\anaconda3\\Lib\\site-packages\\sklearn\\base.py:439: UserWarning: X does not have valid feature names, but MLPRegressor was fitted with feature names\n",
      "  warnings.warn(\n",
      "C:\\Users\\Nikola\\anaconda3\\Lib\\site-packages\\sklearn\\base.py:439: UserWarning: X does not have valid feature names, but MLPRegressor was fitted with feature names\n",
      "  warnings.warn(\n",
      "C:\\Users\\Nikola\\anaconda3\\Lib\\site-packages\\sklearn\\base.py:439: UserWarning: X does not have valid feature names, but MLPRegressor was fitted with feature names\n",
      "  warnings.warn(\n",
      "C:\\Users\\Nikola\\anaconda3\\Lib\\site-packages\\sklearn\\base.py:439: UserWarning: X does not have valid feature names, but MLPRegressor was fitted with feature names\n",
      "  warnings.warn(\n",
      "C:\\Users\\Nikola\\anaconda3\\Lib\\site-packages\\sklearn\\base.py:439: UserWarning: X does not have valid feature names, but MLPRegressor was fitted with feature names\n",
      "  warnings.warn(\n"
     ]
    }
   ],
   "source": [
    "dummy_data = [\n",
    "    [[59.56, 58.21, 56.12, 57.12, 51.21, 56.89, 55.30]],\n",
    "    [[60.32, 57.89, 58.12, 59.78, 54.67, 58.90, 56.78]],\n",
    "    [[58.90, 57.00, 55.45, 56.78, 52.34, 57.12, 54.90]],\n",
    "    [[61.20, 59.00, 57.34, 60.00, 55.89, 59.45, 57.23]],\n",
    "    [[57.89, 55.90, 53.45, 56.12, 50.67, 55.90, 54.00]],\n",
    "    [[62.00, 60.56, 58.67, 61.00, 56.78, 60.90, 58.90]],\n",
    "    [[58.34, 56.00, 54.23, 57.00, 51.78, 56.34, 54.45]],\n",
    "    [[63.00, 61.23, 59.78, 62.34, 57.90, 61.45, 59.00]],\n",
    "    [[59.45, 57.67, 55.78, 58.00, 53.00, 57.90, 56.12]],\n",
    "    [[61.78, 59.45, 58.00, 60.56, 56.12, 59.00, 57.67]]\n",
    "]\n",
    "\n",
    "predictions_dummy = []\n",
    "\n",
    "for data_point in dummy_data:\n",
    "    prediction = model.predict(data_point) \n",
    "    predictions_dummy.append(prediction)\n",
    "\n",
    "for i, prediction in enumerate(predictions_dummy):\n",
    "    print(f\"Prediction {i + 1}: {prediction}\")\n"
   ],
   "metadata": {
    "collapsed": false,
    "ExecuteTime": {
     "end_time": "2024-04-29T09:14:00.194987500Z",
     "start_time": "2024-04-29T09:14:00.174195400Z"
    }
   },
   "id": "e6bbf603550e73a9"
  },
  {
   "cell_type": "code",
   "execution_count": 26,
   "outputs": [
    {
     "name": "stderr",
     "output_type": "stream",
     "text": [
      "C:\\Users\\Nikola\\anaconda3\\Lib\\site-packages\\sklearn\\base.py:439: UserWarning: X does not have valid feature names, but MLPRegressor was fitted with feature names\n",
      "  warnings.warn(\n"
     ]
    },
    {
     "data": {
      "text/plain": "array([[57.55703551, 57.56186037, 57.70244709, 57.57981556, 57.61316589,\n        57.51625201, 57.54277456]])"
     },
     "execution_count": 26,
     "metadata": {},
     "output_type": "execute_result"
    }
   ],
   "source": [
    "predictions_dummy = [[\n",
    "    57.81,\n",
    "    57.70,\n",
    "    57.68,\n",
    "    57.40,\n",
    "    57.60,\n",
    "    57.61,\n",
    "    57.46\n",
    "    ]\n",
    "]\n",
    "\n",
    "prediction = model.predict(predictions_dummy) \n",
    "\n",
    "prediction"
   ],
   "metadata": {
    "collapsed": false,
    "ExecuteTime": {
     "end_time": "2024-04-29T09:23:46.628925400Z",
     "start_time": "2024-04-29T09:23:46.611614Z"
    }
   },
   "id": "764c2fc74f220f79"
  },
  {
   "cell_type": "code",
   "execution_count": 27,
   "outputs": [],
   "source": [
    "real_data =  [[\n",
    "    57.73,\n",
    "    57.84,\n",
    "    57.61,\n",
    "    57.61,\n",
    "    57.36,\n",
    "    57.40,\n",
    "    57.40\n",
    "]]"
   ],
   "metadata": {
    "collapsed": false,
    "ExecuteTime": {
     "end_time": "2024-04-29T09:24:25.219000500Z",
     "start_time": "2024-04-29T09:24:25.204691500Z"
    }
   },
   "id": "3834bd311e470b1e"
  },
  {
   "cell_type": "code",
   "execution_count": 30,
   "outputs": [
    {
     "data": {
      "text/plain": "<Figure size 1000x600 with 1 Axes>",
      "image/png": "[encoded data removed]"
     },
     "metadata": {},
     "output_type": "display_data"
    }
   ],
   "source": [
    "import matplotlib.pyplot as plt\n",
    "\n",
    "# Predicted data\n",
    "predictions_dummy = [\n",
    "    57.81,\n",
    "    57.70,\n",
    "    57.68,\n",
    "    57.40,\n",
    "    57.60,\n",
    "    57.61,\n",
    "    57.46\n",
    "]\n",
    "\n",
    "# Real data\n",
    "real_data = [\n",
    "    57.73,\n",
    "    57.84,\n",
    "    57.61,\n",
    "    57.61,\n",
    "    57.36,\n",
    "    57.40,\n",
    "    57.40\n",
    "]\n",
    "\n",
    "plt.figure(figsize=(10, 6))\n",
    "plt.plot(range(1, len(predictions_dummy) + 1), predictions_dummy, marker='o', linestyle='-', color='blue', label='Predicted Data')\n",
    "plt.plot(range(1, len(real_data) + 1), real_data, marker='s', linestyle='-', color='orange', label='Real Data')\n",
    "plt.xlabel('Data Point')\n",
    "plt.ylabel('Value')\n",
    "plt.title('Comparison of Predicted and Real Data')\n",
    "plt.xticks(range(1, len(predictions_dummy) + 1))\n",
    "plt.legend()\n",
    "plt.grid(True)\n",
    "plt.show()"
   ],
   "metadata": {
    "collapsed": false,
    "ExecuteTime": {
     "end_time": "2024-04-29T09:26:14.508832600Z",
     "start_time": "2024-04-29T09:26:14.282865900Z"
    }
   },
   "id": "d7213b1dc9933e60"
  },
  {
   "cell_type": "code",
   "execution_count": null,
   "outputs": [],
   "source": [],
   "metadata": {
    "collapsed": false
   },
   "id": "ef8f92852fd8a935"
  }
 ],
 "metadata": {
  "kernelspec": {
   "display_name": "Python 3",
   "language": "python",
   "name": "python3"
  },
  "language_info": {
   "codemirror_mode": {
    "name": "ipython",
    "version": 2
   },
   "file_extension": ".py",
   "mimetype": "text/x-python",
   "name": "python",
   "nbconvert_exporter": "python",
   "pygments_lexer": "ipython2",
   "version": "2.7.6"
  }
 },
 "nbformat": 4,
 "nbformat_minor": 5
}
